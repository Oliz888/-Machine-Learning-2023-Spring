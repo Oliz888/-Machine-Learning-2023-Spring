{
  "nbformat": 4,
  "nbformat_minor": 0,
  "metadata": {
    "colab": {
      "provenance": [],
      "mount_file_id": "1fueW1WxTIMFdellVQB1_22VwSv2Cyuhs",
      "authorship_tag": "ABX9TyNNPsncTxkfYVT5gsLCKZeA",
      "include_colab_link": true
    },
    "kernelspec": {
      "name": "python3",
      "display_name": "Python 3"
    },
    "language_info": {
      "name": "python"
    }
  },
  "cells": [
    {
      "cell_type": "markdown",
      "metadata": {
        "id": "view-in-github",
        "colab_type": "text"
      },
      "source": [
        "<a href=\"https://colab.research.google.com/github/Oliz888/Machine-Learning-Hung-yi-Lee/blob/main/colab_setting_up.ipynb\" target=\"_parent\"><img src=\"https://colab.research.google.com/assets/colab-badge.svg\" alt=\"Open In Colab\"/></a>"
      ]
    },
    {
      "cell_type": "code",
      "execution_count": null,
      "metadata": {
        "id": "VEvavrBEAxof"
      },
      "outputs": [],
      "source": []
    }
  ]
}