{
  "nbformat": 4,
  "nbformat_minor": 0,
  "metadata": {
    "colab": {
      "provenance": [],
      "authorship_tag": "ABX9TyNRPlSWsbVH+AxtlysrvdCD",
      "include_colab_link": true
    },
    "kernelspec": {
      "name": "python3",
      "display_name": "Python 3"
    },
    "language_info": {
      "name": "python"
    }
  },
  "cells": [
    {
      "cell_type": "markdown",
      "metadata": {
        "id": "view-in-github",
        "colab_type": "text"
      },
      "source": [
        "<a href=\"https://colab.research.google.com/github/Oliz888/Machine-Learning-Hung-yi-Lee/blob/main/Prep_Python_Basic_Syntax_.ipynb\" target=\"_parent\"><img src=\"https://colab.research.google.com/assets/colab-badge.svg\" alt=\"Open In Colab\"/></a>"
      ]
    },
    {
      "cell_type": "markdown",
      "source": [
        "## Python variable"
      ],
      "metadata": {
        "id": "D3Yasa1PXUzj"
      }
    },
    {
      "cell_type": "code",
      "execution_count": null,
      "metadata": {
        "id": "ggRfkQfpVgFz"
      },
      "outputs": [],
      "source": [
        "## creating variables\n",
        "x = 5\n",
        "y = 'John'"
      ]
    },
    {
      "cell_type": "code",
      "source": [
        "## casting: specifying the data type of a variable\n",
        "x = str(3) # x will be '3'\n",
        "y = int(3) # y will be 3\n",
        "z = float(3) # z will be 3.0"
      ],
      "metadata": {
        "id": "vLhcuzoAWjIW"
      },
      "execution_count": null,
      "outputs": []
    },
    {
      "cell_type": "code",
      "source": [
        "# get the type\n",
        "print(type(x))\n",
        "print(type(y)"
      ],
      "metadata": {
        "id": "OxvBZXO_WsIP"
      },
      "execution_count": null,
      "outputs": []
    },
    {
      "cell_type": "code",
      "source": [
        "# '' and \"\" are the same\n",
        "# a and A - case senstitive"
      ],
      "metadata": {
        "id": "GdEOtxk5XFCL"
      },
      "execution_count": null,
      "outputs": []
    },
    {
      "cell_type": "code",
      "source": [
        "myvar = \"John\"\n",
        "my_var = \"John\"\n",
        "_my_var = \"John\"\n",
        "myVar = \"John\"\n",
        "MYVAR = \"John\"\n",
        "myvar2 = \"John\"\n",
        "\n",
        "# 2myvar = \"John\"\n",
        "# my-var = \"John\"\n",
        "# my var = \"John\""
      ],
      "metadata": {
        "id": "MVJJC79zXaO2"
      },
      "execution_count": null,
      "outputs": []
    },
    {
      "cell_type": "code",
      "source": [
        "# assigning multiple variables\n",
        "x, y, z = \"Orange\", \"Banana\", \"Cherry\"\n",
        "print(x)\n",
        "print(y)\n",
        "print(z)"
      ],
      "metadata": {
        "id": "gAC5taZUXiOn"
      },
      "execution_count": null,
      "outputs": []
    },
    {
      "cell_type": "code",
      "source": [
        "# one value to multiple variables\n",
        "x = y = z = \"Orange\"\n",
        "print(x)\n",
        "print(y)\n",
        "print(z)"
      ],
      "metadata": {
        "id": "ecOioD-HXwa9"
      },
      "execution_count": null,
      "outputs": []
    },
    {
      "cell_type": "code",
      "source": [
        "# unpack a collection\n",
        "fruits = [\"apple\", \"banana\", \"cherry\"]\n",
        "x, y, z = fruits\n",
        "print(x)\n",
        "print(y)\n",
        "print(z)"
      ],
      "metadata": {
        "id": "1XHJnhjsX3Ey"
      },
      "execution_count": null,
      "outputs": []
    },
    {
      "cell_type": "code",
      "source": [
        "x = \"Python is awesome\"\n",
        "print(x)\n",
        "\n",
        "x = \"Python\"\n",
        "y = \"is\"\n",
        "z = \"awesome\"\n",
        "print(x, y, z)\n",
        "\n",
        "x = \"Python \"\n",
        "y = \"is \"\n",
        "z = \"awesome\"\n",
        "print(x + y + z)\n",
        "\n",
        "x = 5\n",
        "y = 10\n",
        "print(x + y)\n",
        "\n",
        "x = 5\n",
        "y = \"John\"\n",
        "print(x, y)"
      ],
      "metadata": {
        "id": "lLfvABnOYBx2"
      },
      "execution_count": null,
      "outputs": []
    },
    {
      "cell_type": "code",
      "source": [
        "# global variables: reate a variable outside of a function, and use it inside the function\n",
        "x = \"awesome\"\n",
        "\n",
        "def myfunc():\n",
        "  print(\"Python is \" + x)\n",
        "\n",
        "myfunc()\n",
        "\n",
        "# local variables: Create a variable inside a function, with the same name as the global variable\n",
        "x = \"awesome\"\n",
        "\n",
        "def myfunc():\n",
        "  x = \"fantastic\"\n",
        "  print(\"Python is \" + x)\n",
        "\n",
        "myfunc()\n",
        "\n",
        "print(\"Python is \" + x)\n"
      ],
      "metadata": {
        "id": "2e5Y-hhiYbcG"
      },
      "execution_count": null,
      "outputs": []
    },
    {
      "cell_type": "markdown",
      "source": [
        "## Data Types\n",
        "\n",
        "- Text Types: `str`\n",
        "- Numerical Types: `int`, `float`, `complex`\n",
        "- Sequence Types: `list`, `typle`, `range`\n",
        "- Mapping Types: `dict`\n",
        "- Set Types: `set`, `frozenset`\n",
        "- Boolean types: `bool`\n",
        "- Binary: `bytes`, `bytearray`, `memoryview`\n",
        "- NoneType: `NoneType`\n"
      ],
      "metadata": {
        "id": "WoFJqf8VZjHz"
      }
    },
    {
      "cell_type": "code",
      "source": [
        "## setting the datatype\n",
        "\n",
        "x = \"Hello World\"\t## str\n",
        "x = 20 ##int\n",
        "x = 20.5 ## float\n",
        "x = 1j ## complex\n",
        "x = [\"apple\", \"banana\", \"cherry\"] ##list\n",
        "x = (\"apple\", \"banana\", \"cherry\") ##tuple\n",
        "x = range(6) ##range\n",
        "x = {\"name\": \"John\", \"age\": 36} ##dict\n",
        "x = {\"apple\", \"banana\", \"cherry\"} ##set\n",
        "x = frozenset({\"apple\", \"banana\", \"cherry\"})\n",
        "x = True ## bool\n",
        "x = b\"Hello\" ## bytes\n",
        "x = memoryview(bytes(5)) ## memoryview\n",
        "x = None ## NoneType"
      ],
      "metadata": {
        "id": "3nJwLDlEaPrc"
      },
      "execution_count": null,
      "outputs": []
    },
    {
      "cell_type": "markdown",
      "source": [
        "## Python Number"
      ],
      "metadata": {
        "id": "64zT70lJa6hQ"
      }
    },
    {
      "cell_type": "markdown",
      "source": [
        "There are 3 numerical types in python\n",
        "- `int`\n",
        "- `float`\n",
        "- `complex`"
      ],
      "metadata": {
        "id": "7kLRQp9xeeFj"
      }
    },
    {
      "cell_type": "code",
      "source": [
        "x = 1 #int\n",
        "x = 2.8 #float\n",
        "z = 1j #complex\n",
        "\n",
        "print(type(x))\n",
        "print(type(y))\n",
        "print(type(z))\n",
        "\n",
        "x = 1\n",
        "y = 35656222554887711\n",
        "z = -3255522\n",
        "\n",
        "print(type(x))\n",
        "print(type(y))\n",
        "print(type(z))\n",
        "\n",
        "# float\n",
        "x = 1.10\n",
        "y = 1.0\n",
        "z = -35.59\n",
        "\n",
        "print(type(x))\n",
        "print(type(y))\n",
        "print(type(z))\n",
        "\n",
        "# Float can also be scientific numbers with an \"e\" to indicate the power of 10.\n",
        "x = 35e3\n",
        "y = 12E4\n",
        "z = -87.7e100\n",
        "\n",
        "print(type(x))\n",
        "print(type(y))\n",
        "print(type(z))\n"
      ],
      "metadata": {
        "id": "VLZAxnpNanQ5"
      },
      "execution_count": null,
      "outputs": []
    },
    {
      "cell_type": "code",
      "source": [
        "## type conversion\n",
        "x = 1    # int\n",
        "y = 2.8  # float\n",
        "z = 1j   # complex\n",
        "\n",
        "#convert from int to float:\n",
        "a = float(x)\n",
        "\n",
        "#convert from float to int:\n",
        "b = int(y)\n",
        "\n",
        "#convert from int to complex:\n",
        "c = complex(x)\n",
        "\n",
        "print(a)\n",
        "print(b)\n",
        "print(c)\n",
        "\n",
        "print(type(a))\n",
        "print(type(b))\n",
        "print(type(c))"
      ],
      "metadata": {
        "id": "FjAEvQFFen5-"
      },
      "execution_count": null,
      "outputs": []
    },
    {
      "cell_type": "code",
      "source": [
        "import random\n",
        "\n",
        "print(random.randrange(1, 10))"
      ],
      "metadata": {
        "id": "UWuu-vWDe-LA"
      },
      "execution_count": null,
      "outputs": []
    },
    {
      "cell_type": "markdown",
      "source": [
        "## Python casting\n"
      ],
      "metadata": {
        "id": "9FGrnu2ZfF5S"
      }
    },
    {
      "cell_type": "code",
      "source": [
        "x = int(1)   # x will be 1\n",
        "y = int(2.8) # y will be 2\n",
        "z = int(\"3\") # z will be 3\n",
        "\n",
        "x = float(1)     # x will be 1.0\n",
        "y = float(2.8)   # y will be 2.8\n",
        "z = float(\"3\")   # z will be 3.0\n",
        "w = float(\"4.2\") # w will be 4.2\n",
        "\n",
        "x = str(\"s1\") # x will be 's1'\n",
        "y = str(2)    # y will be '2'\n",
        "z = str(3.0)  # z will be '3.0'"
      ],
      "metadata": {
        "id": "8nobei7yfHq6"
      },
      "execution_count": null,
      "outputs": []
    },
    {
      "cell_type": "markdown",
      "source": [
        "## Python Strings"
      ],
      "metadata": {
        "id": "6p2iE8fdfThH"
      }
    },
    {
      "cell_type": "code",
      "source": [
        "b = \"Hello, World!\"\n",
        "## Slicing\n",
        "print(b[2:5]) ## Get the characters from position 2 to position 5 (not included):\n",
        "print(b[:5]) ## Get the characters from the start to position 5 (not included)\n",
        "print(b[2:]) ## Get the characters from position 2, and all the way to the end\n",
        "\n",
        "## Negative Indexing\n",
        "b = \"Hello, World!\"\n",
        "print(b[-5:-2]) # From: \"o\" in \"World!\" (position -5) To, but not included: \"d\" in \"World!\" (position -2):\n"
      ],
      "metadata": {
        "id": "wQHQkwJmfVBG"
      },
      "execution_count": null,
      "outputs": []
    },
    {
      "cell_type": "code",
      "source": [
        "# Modify strings\n",
        "a = \"Hello, World!\"\n",
        "print(a.upper())\n",
        "\n",
        "a = \"Hello, World!\"\n",
        "print(a.lower())\n",
        "\n",
        "a = \" Hello, World! \"\n",
        "print(a.strip()) # returns \"Hello,World!\"\n",
        "\n",
        "a = \"Hello, World!\"\n",
        "print(a.replace(\"H\", \"J\"))\n",
        "\n",
        "a = \"Hello, World!\"\n",
        "print(a.split(\",\")) # returns ['Hello', ' World!']"
      ],
      "metadata": {
        "id": "dQ_e-fPohcPl"
      },
      "execution_count": null,
      "outputs": []
    },
    {
      "cell_type": "code",
      "source": [
        "## concatenation strings\n",
        "a = \"Hello\"\n",
        "b = \"World\"\n",
        "c = a + b\n",
        "print(c)\n",
        "\n",
        "a = \"Hello\"\n",
        "b = \"World\"\n",
        "c = a + \" \" + b\n",
        "print(c)"
      ],
      "metadata": {
        "id": "oHZ89ryuhwmP"
      },
      "execution_count": null,
      "outputs": []
    },
    {
      "cell_type": "code",
      "source": [
        "# string format\n",
        "age = 36\n",
        "txt = \"My name is John, I am \" + age\n",
        "print(txt)\n",
        "\n",
        "# F-Strings: To specify a string as an f-string, simply put an f in front of the string literal, and add curly brackets {} as placeholders for variables and other operations.\n",
        "age = 36\n",
        "txt = f\"My name is John, I am {age}\"\n",
        "print(txt)\n",
        "\n",
        "# Add a placeholder for the price variable\n",
        "price = 59\n",
        "txt = f\"The price is {price} dollars\"\n",
        "print(txt)\n",
        "\n",
        "# Display the price with 2 decimals\n",
        "price = 59\n",
        "txt = f\"The price is {price:.2f} dollars\"\n",
        "print(txt)\n",
        "\n",
        "# Perform a math operation in the placeholder, and return the result\n",
        "txt = f\"The price is {20 * 59} dollars\"\n",
        "print(txt)\n"
      ],
      "metadata": {
        "id": "7SdabZ3Xh8f8"
      },
      "execution_count": null,
      "outputs": []
    },
    {
      "cell_type": "code",
      "source": [
        "# Escape Characters\n",
        "txt = \"We are the so-called \\\"Vikings\\\" from the north.\"\n"
      ],
      "metadata": {
        "id": "tQNr0yJ7i7Zs"
      },
      "execution_count": null,
      "outputs": []
    },
    {
      "cell_type": "markdown",
      "source": [
        "## Boolean Values"
      ],
      "metadata": {
        "id": "73aaBcHFjJSh"
      }
    },
    {
      "cell_type": "code",
      "source": [
        "print(10 > 9)\n",
        "print(10 == 9)\n",
        "print(10 < 9)\n",
        "\n",
        "\n",
        "a = 200\n",
        "b = 33\n",
        "\n",
        "if b > a:\n",
        "  print(\"b is greater than a\")\n",
        "else:\n",
        "  print(\"b is not greater than a\")"
      ],
      "metadata": {
        "id": "_h2UqLeQjHqf"
      },
      "execution_count": null,
      "outputs": []
    },
    {
      "cell_type": "code",
      "source": [
        "print(bool(\"Hello\"))\n",
        "print(bool(15))"
      ],
      "metadata": {
        "id": "2_86u52ajTHR"
      },
      "execution_count": null,
      "outputs": []
    },
    {
      "cell_type": "code",
      "source": [
        "x = \"Hello\"\n",
        "y = 15\n",
        "\n",
        "print(bool(x))\n",
        "print(bool(y))"
      ],
      "metadata": {
        "id": "1kkQ5ot9jXHr"
      },
      "execution_count": null,
      "outputs": []
    },
    {
      "cell_type": "markdown",
      "source": [
        "Python Operators"
      ],
      "metadata": {
        "id": "DiT6WJ-9jlpk"
      }
    },
    {
      "cell_type": "code",
      "source": [
        "x + y\n",
        "x - y\n",
        "x * y\n",
        "x / y\n",
        "x % y\n",
        "x**y\n",
        "x//y\n",
        "\n",
        "x += 3 ## x = x + 3\n",
        "x -= 3\n",
        "x *= 3\n",
        "x /= 3\n",
        "x //= 3\n",
        "x **= 3\n",
        "x &= 3\n",
        "x |= 3\n",
        "x ^= 3\n",
        "x >>= 3\n",
        "x <<= 3\n",
        "print(x := 3)\n",
        "\n",
        "== # equal\n",
        "!= # not equal\n",
        "> # great then\n",
        "< # less then\n",
        "<= # less than or equal to\n",
        "\n",
        "x < 5 and  x < 10\n",
        "x < 5 or x < 4\n",
        "not(x < 5 and x < 10)\n",
        "\n",
        "is\n",
        "is not\n",
        "\n",
        "in\n",
        "not in\n",
        "\n",
        "x & y\n",
        "x | y ## Sets each bit to 1 if one of two bits is 1\n",
        "x ^ y ## Sets each bit to 1 if only one of two bits is 1\n",
        "~x ## Inverts all the bits\n",
        "<< ## Shift left by pushing zeros in from the right and let the leftmost bits fall off\n",
        ">>## Shift right by pushing copies of the leftmost bit in from the left, and let the rightmost bits fall off\n",
        "\n",
        "()\n",
        "**\n",
        "+x -x ~x\n",
        "* /  //  %\n",
        "<< >>\n",
        "&\n",
        "^\n",
        "|\n",
        "== != > <"
      ],
      "metadata": {
        "id": "nY_sI9GojnJ6"
      },
      "execution_count": null,
      "outputs": []
    },
    {
      "cell_type": "code",
      "source": [],
      "metadata": {
        "id": "Ybos6cH-lOQL"
      },
      "execution_count": null,
      "outputs": []
    },
    {
      "cell_type": "markdown",
      "source": [
        "## Python List\n",
        "\n",
        "List are used to store multiple items in a single variables\n",
        "\n",
        "One of 4 built-in data types in python to store the data  \n",
        "- list\n",
        "- tuple\n",
        "- set\n",
        "- dictionar"
      ],
      "metadata": {
        "id": "86v6s0avlMSB"
      }
    },
    {
      "cell_type": "code",
      "source": [
        "thislist = [\"apple\", \"banana\", \"cherry\"]\n",
        "print(thislist)\n",
        "\n",
        "## list allows duplicate values\n",
        "\n",
        "## print the length of ths list\n",
        "print(len(thislist))\n",
        "\n",
        "## list items - data types\n",
        "list1 = [\"apple\", \"banana\", \"cherry\"]\n",
        "list2 = [1, 5, 7, 9, 3]\n",
        "list3 = [True, False, False]\n",
        "\n",
        "list1 = [\"abc\", 34, True, 40, \"male\"]\n",
        "\n",
        "thislist = list((\"apple\", \"banana\", \"cherry\")) # note the double round-brackets\n",
        "print(thislist)\n",
        "\n"
      ],
      "metadata": {
        "id": "Na1UZA-tlhrq"
      },
      "execution_count": null,
      "outputs": []
    },
    {
      "cell_type": "markdown",
      "source": [
        "- `List` is a collection which is ordered and changeable. Allows duplicate members.\n",
        "- `Tuple` is a collection which is ordered and unchangeable. Allows duplicate members.\n",
        "- `Set` is a collection which is unordered, unchangeable*, and unindexed. No duplicate members.\n",
        "- `Dictionary` is a collection which is ordered** and changeable. No duplicate members."
      ],
      "metadata": {
        "id": "s7880DRQmJU2"
      }
    },
    {
      "cell_type": "code",
      "source": [
        "## access list items\n",
        "\n",
        "thislist = [\"apple\", \"banana\", \"cherry\"]\n",
        "print(thislist[1]) # Note: The first item has index 0.\n",
        "\n",
        "# Print the last item of the list:\n",
        "thislist = [\"apple\", \"banana\", \"cherry\"]\n",
        "print(thislist[-1])\n",
        "\n",
        "# Return the third, fourth, and fifth item:\n",
        "thislist = [\"apple\", \"banana\", \"cherry\", \"orange\", \"kiwi\", \"melon\", \"mango\"]\n",
        "print(thislist[2:5]) # The search will start at index 2 (included) and end at index 5 (not included)"
      ],
      "metadata": {
        "id": "J2wFshhkmVah"
      },
      "execution_count": null,
      "outputs": []
    },
    {
      "cell_type": "code",
      "source": [
        "# To add an item to the end of the list\n",
        "thislist = [\"apple\", \"banana\", \"cherry\"]\n",
        "thislist.append(\"orange\")\n",
        "print(thislist)\n",
        "\n",
        "thislist = [\"apple\", \"banana\", \"cherry\"]\n",
        "thislist.insert(1, \"orange\")\n",
        "print(thislist)\n",
        "\n",
        "thislist = [\"apple\", \"banana\", \"cherry\"]\n",
        "tropical = [\"mango\", \"pineapple\", \"papaya\"]\n",
        "thislist.extend(tropical)\n",
        "print(thislist)\n",
        "\n",
        "thislist = [\"apple\", \"banana\", \"cherry\"]\n",
        "thistuple = (\"kiwi\", \"orange\")\n",
        "thislist.extend(thistuple)\n",
        "print(thislist)"
      ],
      "metadata": {
        "id": "B8JUqHysnH2K"
      },
      "execution_count": null,
      "outputs": []
    },
    {
      "cell_type": "code",
      "source": [
        "# Remove the first occurrence of \"banana\"\n",
        "thislist = [\"apple\", \"banana\", \"cherry\", \"banana\", \"kiwi\"]\n",
        "thislist.remove(\"banana\")\n",
        "print(thislist)\n",
        "\n",
        "# Remove the second item\n",
        "thislist = [\"apple\", \"banana\", \"cherry\"]\n",
        "thislist.pop(1)\n",
        "print(thislist)\n",
        "\n",
        "Z# If you do not specify the index, the pop() method removes the last item.\n",
        "thislist = [\"apple\", \"banana\", \"cherry\"]\n",
        "thislist.pop()\n",
        "print(thislist)\n",
        "\n",
        "# Remove the first item\n",
        "thislist = [\"apple\", \"banana\", \"cherry\"]\n",
        "del thislist[0]\n",
        "print(thislist)\n"
      ],
      "metadata": {
        "id": "QirVY3IznaPE"
      },
      "execution_count": null,
      "outputs": []
    },
    {
      "cell_type": "code",
      "source": [
        "thislist = [\"apple\", \"banana\", \"cherry\"]\n",
        "for x in thislist:\n",
        "  print(x)\n",
        "\n",
        "thislist = [\"apple\", \"banana\", \"cherry\"]\n",
        "for i in range(len(thislist)):\n",
        "  print(thislist[i])\n"
      ],
      "metadata": {
        "colab": {
          "base_uri": "https://localhost:8080/"
        },
        "id": "SmYvqmHvnwh0",
        "outputId": "38b034e3-b643-434f-b8f5-2dc6e69a059d"
      },
      "execution_count": null,
      "outputs": [
        {
          "output_type": "stream",
          "name": "stdout",
          "text": [
            "apple\n",
            "banana\n",
            "cherry\n",
            "apple\n",
            "banana\n",
            "cherry\n"
          ]
        }
      ]
    },
    {
      "cell_type": "code",
      "source": [
        "fruits = [\"apple\", \"banana\", \"cherry\", \"kiwi\", \"mango\"]\n",
        "newlist = []\n",
        "\n",
        "for x in fruits:\n",
        "  if \"a\" in x:\n",
        "    newlist.append(x)\n",
        "print(newlist)\n",
        "\n",
        "newlist = [x for x in fruits if \"a\" in x]\n",
        "print(newlist)\n",
        "\n",
        "# newlist = [expression for item in iterable if condition == True]\n",
        "\n",
        "newlist = [x for x in fruits if x != \"apple\"]\n",
        "print(newlist)\n",
        "newlist = [x for x in range(10)]\n",
        "print(newlist)\n",
        "newlist = [x for x in range(10) if x < 5]\n",
        "print(newlist)\n",
        "newlist = [x.upper() for x in fruits]\n",
        "print(newlist)\n",
        "newlist = ['hello' for x in fruits]\n",
        "print(newlist)\n",
        "newlist = [x if x != \"banana\" else \"orange\" for x in fruits]\n",
        "print(newlist)"
      ],
      "metadata": {
        "colab": {
          "base_uri": "https://localhost:8080/"
        },
        "id": "HrRjM46yoClK",
        "outputId": "70f144c2-1932-484e-93e0-1d6178215d2b"
      },
      "execution_count": null,
      "outputs": [
        {
          "output_type": "stream",
          "name": "stdout",
          "text": [
            "['apple', 'banana', 'mango']\n",
            "['apple', 'banana', 'mango']\n",
            "['banana', 'cherry', 'kiwi', 'mango']\n",
            "[0, 1, 2, 3, 4, 5, 6, 7, 8, 9]\n",
            "[0, 1, 2, 3, 4]\n",
            "['APPLE', 'BANANA', 'CHERRY', 'KIWI', 'MANGO']\n",
            "['hello', 'hello', 'hello', 'hello', 'hello']\n",
            "['apple', 'orange', 'cherry', 'kiwi', 'mango']\n"
          ]
        }
      ]
    },
    {
      "cell_type": "code",
      "source": [
        "# sort the list alphabetically\n",
        "thislist = [\"orange\", \"mango\", \"kiwi\", \"pineapple\", \"banana\"]\n",
        "thislist.sort()\n",
        "print(thislist)\n",
        "\n",
        "# Sort the list numerically\n",
        "thislist = [100, 50, 65, 82, 23]\n",
        "thislist.sort()\n",
        "print(thislist)\n",
        "\n",
        "# To sort descending\n",
        "thislist = [\"orange\", \"mango\", \"kiwi\", \"pineapple\", \"banana\"]\n",
        "thislist.sort(reverse = True)\n",
        "print(thislist)\n",
        "\n",
        "# customize Sort Funciton\n",
        "def myfunc(n):\n",
        "  return abs(n - 50)\n",
        "\n",
        "thislist = [100, 50, 65, 82, 23]\n",
        "thislist.sort(key = myfunc)\n",
        "print(thislist)\n",
        "\n",
        "thislist = [\"banana\", \"Orange\", \"Kiwi\", \"cherry\"]\n",
        "thislist.sort(key = str.lower)\n",
        "print(thislist)\n",
        "\n",
        "thislist = [\"banana\", \"Orange\", \"Kiwi\", \"cherry\"]\n",
        "thislist.reverse()\n",
        "print(thislist)\n"
      ],
      "metadata": {
        "id": "NHVVHC4fo0zu"
      },
      "execution_count": null,
      "outputs": []
    },
    {
      "cell_type": "code",
      "source": [
        "# copy list\n",
        "\n",
        "thislist = [\"apple\", \"banana\", \"cherry\"]\n",
        "mylist = thislist.copy()\n",
        "print(mylist)\n",
        "\n",
        "thislist = [\"apple\", \"banana\", \"cherry\"]\n",
        "mylist = list(thislist)\n",
        "print(mylist)\n",
        "\n",
        "# make a copy using slicing method\n",
        "thislist = [\"apple\", \"banana\", \"cherry\"]\n",
        "mylist = thislist[:]\n",
        "print(mylist)"
      ],
      "metadata": {
        "id": "P8BzT3XZpZLW"
      },
      "execution_count": null,
      "outputs": []
    },
    {
      "cell_type": "code",
      "source": [
        "# join two list\n",
        "list1 = [\"a\", \"b\", \"c\"]\n",
        "list2 = [1, 2, 3]\n",
        "\n",
        "list3 = list1 + list2\n",
        "print(list3)\n",
        "\n",
        "# append list2 into list1\n",
        "list1 = [\"a\", \"b\" , \"c\"]\n",
        "list2 = [1, 2, 3]\n",
        "\n",
        "for x in list2:\n",
        "  list1.append(x)\n",
        "\n",
        "print(list1)\n",
        "\n",
        "list1 = [\"a\", \"b\" , \"c\"]\n",
        "list2 = [1, 2, 3]\n",
        "\n",
        "# Use the extend() method to add list2 at the end of list1\n",
        "list1.extend(list2)\n",
        "print(list1)"
      ],
      "metadata": {
        "id": "B337kr4Opjdw"
      },
      "execution_count": null,
      "outputs": []
    },
    {
      "cell_type": "markdown",
      "source": [
        "## Typle\n",
        "- A tuple is a collection which is ordered and unchangeable.\n",
        "\n",
        "- Tuples are written with round brackets."
      ],
      "metadata": {
        "id": "B_JGAcpkqS1f"
      }
    },
    {
      "cell_type": "code",
      "source": [
        "# thistuple = (\"apple\", \"banana\", \"cherry\")\n",
        "# print(thistuple)\n",
        "\n",
        "# thistuple = (\"apple\", \"banana\", \"cherry\", \"apple\", \"cherry\")\n",
        "# print(thistuple)\n",
        "\n"
      ],
      "metadata": {
        "id": "V7sxywV-p7BS"
      },
      "execution_count": null,
      "outputs": []
    }
  ]
}